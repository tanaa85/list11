{
  "nbformat": 4,
  "nbformat_minor": 0,
  "metadata": {
    "colab": {
      "provenance": [],
      "toc_visible": true,
      "authorship_tag": "ABX9TyNMBiTlQXmL3HELHexbihqF",
      "include_colab_link": true
    },
    "kernelspec": {
      "name": "python3",
      "display_name": "Python 3"
    },
    "language_info": {
      "name": "python"
    }
  },
  "cells": [
    {
      "cell_type": "markdown",
      "metadata": {
        "id": "view-in-github",
        "colab_type": "text"
      },
      "source": [
        "<a href=\"https://colab.research.google.com/github/tanaa85/list11/blob/main/Untitled0.ipynb\" target=\"_parent\"><img src=\"https://colab.research.google.com/assets/colab-badge.svg\" alt=\"Open In Colab\"/></a>"
      ]
    },
    {
      "cell_type": "code",
      "source": [
        "import numpy as np\n",
        "r = int(input()) # r = 2 (размер матрицы состоит из 2 строк)\n",
        "c = int(input())# c = 2 (размер матрицы состоит из 2 колонок)\n",
        "inc = [el for el in input().split(' ')] #массив inc = ['0r', '0r', '0r', '1c']\n",
        "inc_snpfishkami = np.array(inc) # массив inc_snpfishkami = ['0r' '0r' '0r' '1c'](команды, увеличить строку [0] (0r) на +1 и т.д.)\n",
        "print(inc_snpfishkami)\n",
        "matrix = []\n",
        "matrix2 = []\n",
        "for i in range (c):\n",
        "    matrix.append(0)\n",
        "    matrix2.append(0)\n",
        "matrix3 = [matrix, matrix2] #[matrix = 0r, matrix2 = 1r]\n",
        "print(matrix3)\n"
      ],
      "metadata": {
        "id": "wzi7RercJcVm",
        "colab": {
          "base_uri": "https://localhost:8080/"
        },
        "outputId": "d4bb3069-6883-4a3b-cf4b-5f80e038b270"
      },
      "execution_count": 1,
      "outputs": [
        {
          "output_type": "stream",
          "name": "stdout",
          "text": [
            "2\n",
            "2\n",
            "0r 0r 0r 1c\n",
            "['0r' '0r' '0r' '1c']\n",
            "[[0, 0], [0, 0]]\n"
          ]
        }
      ]
    },
    {
      "cell_type": "code",
      "source": [],
      "metadata": {
        "id": "g30Yn032_-wT"
      },
      "execution_count": null,
      "outputs": []
    }
  ]
}